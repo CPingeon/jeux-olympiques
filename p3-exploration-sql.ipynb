{
 "cells": [
  {
   "cell_type": "markdown",
   "metadata": {},
   "source": [
    "# P3. Exploration SQL"
   ]
  },
  {
   "cell_type": "markdown",
   "metadata": {},
   "source": [
    "Le répertoire `/db` contient une base de données SQLite3 `olympics.sqbpro` reprenant les résultats des épreuves des jeux d'été pour une période donnée (cf P1 & P2).\n",
    "\n",
    "On s'intéresse dans le cadre de cette partie P3 à l'exploration via SQL des résultats des JO d'été (table : `summer`)."
   ]
  },
  {
   "cell_type": "markdown",
   "metadata": {},
   "source": [
    "---"
   ]
  },
  {
   "cell_type": "markdown",
   "metadata": {},
   "source": [
    "### Question 1: Qu'est ce que SQL ?"
   ]
  },
  {
   "cell_type": "markdown",
   "metadata": {},
   "source": [
    "SQL (sigle de Structured Query Language, en français langage de requête structurée) est un langage informatique normalisé servant à exploiter des bases de données relationnelles. La partie langage de manipulation des données de SQL permet de rechercher, d'ajouter, de modifier ou de supprimer des données dans les bases de données relationnelles. Outre le langage de manipulation des données, la partie langage de définition des données permet de créer et de modifier l'organisation des données dans la base de données, la partie langage de contrôle de transaction permet de commencer et de terminer des transactions, et la partie langage de contrôle des données permet d'autoriser ou d'interdire l'accès à certaines données à certaines personnes. [Source : Wikipédia](https://fr.wikipedia.org/wiki/Structured_Query_Language \"Pas vraiment ouf de copier Wiki j'avoue\")"
   ]
  },
  {
   "cell_type": "markdown",
   "metadata": {},
   "source": [
    "### Question 2: Qu'est ce que SQLite 3 ? Avantages et/ou Inconvénients ?"
   ]
  },
  {
   "cell_type": "markdown",
   "metadata": {},
   "source": [
    "Une base SQLite3 a la particularité d'être contenue dans un fichier qui porte le même nom. Le moteur de base de données \n",
    "SQLite3 est une bibliothèque, libsqlite3, qu'il est possible d'utiliser avec l'interface utilisateur en ligne de commande \n",
    "sqlite3 ou, via l'API C.SQLite3 présente l'avantage de n'avoir rien à configurer, rien à maintenir ou à administrer. \n",
    "C'est aussi son objectif. En contrepartie, certaines fonctionnalités sont absentes, comme la gestion des utilisateurs \n",
    "ou la possibilité de se connecter à distance à la base (en TCP/IP par exemple). [Source : Wiki Ubuntu FR](https://doc.ubuntu-fr.org/sqlite \" Merci Lamia\")"
   ]
  },
  {
   "cell_type": "markdown",
   "metadata": {},
   "source": [
    "### Question 3: Donner des exemples d'autres formats de fichier pouvant être utilisé pour fournir des données similaires "
   ]
  },
  {
   "cell_type": "markdown",
   "metadata": {},
   "source": [
    "Il y a les formats CSV, XML et Json"
   ]
  },
  {
   "cell_type": "markdown",
   "metadata": {},
   "source": [
    "### Question 4: Quel est le type (texte ou binaire) du fichier base de données SQLite3?"
   ]
  },
  {
   "cell_type": "markdown",
   "metadata": {},
   "source": [
    "Le fichier `olympics.sqbpro` est un fichier texte car un fichier binaire ne peut comporter de texte"
   ]
  },
  {
   "cell_type": "markdown",
   "metadata": {},
   "source": [
    "### Question 5: Donner les caractéristiques de la table `summer` ? "
   ]
  },
  {
   "cell_type": "markdown",
   "metadata": {},
   "source": [
    "La table summer est une base de données comprenant 9 champs (Année, ville, sport, discipline, athlète, pays, genre, catégorie & médaille). Elle regroupe l'intégralité des médaillés olmypiques de la première édition à Olympe en 1896, à celle de 2012 qui avait pris place à Londres, le tout classé dans les 9 champs détaillés plus haut. Cela représente 31165 entrées (mais pas 31165 athlètes puisqu'une partie non négligeable de ceux-ci ont été médaillés à plusieurs reprises)."
   ]
  },
  {
   "cell_type": "markdown",
   "metadata": {},
   "source": [
    "---\n",
    "### Question 6: Combien d'enregistrements possède la table `summer` ?"
   ]
  },
  {
   "cell_type": "markdown",
   "metadata": {},
   "source": [
    "![Q6](./Snaps/Q6.jpg)"
   ]
  },
  {
   "cell_type": "markdown",
   "metadata": {},
   "source": [
    "### Question 7: Quelle période des JO couvre ce fichier de résultats ?"
   ]
  },
  {
   "cell_type": "markdown",
   "metadata": {},
   "source": [
    "![Q7](./Snaps/Q7.jpg)"
   ]
  },
  {
   "cell_type": "markdown",
   "metadata": {},
   "source": [
    "### Question 8: Indiquer les années et villes des olympiades ? "
   ]
  },
  {
   "cell_type": "markdown",
   "metadata": {},
   "source": [
    "![Q7](./Snaps/Q8.jpg)"
   ]
  },
  {
   "cell_type": "markdown",
   "metadata": {},
   "source": [
    "## Question brief J.O: "
   ]
  },
  {
   "cell_type": "markdown",
   "metadata": {},
   "source": [
    "#### Q1. Combien la France a remporté de médailles d’or aux JO de 1984 ? - (Christophe): "
   ]
  },
  {
   "cell_type": "markdown",
   "metadata": {},
   "source": [
    "```sql\n",
    "SELECT count(*)\n",
    "FROM summer \n",
    "WHERE Year = \"1984\" and Country\t= \"FRA\" and Medal = \"Gold\"\n",
    "```"
   ]
  },
  {
   "cell_type": "markdown",
   "metadata": {},
   "source": [
    "![Q1](./Snaps/Q1.jpg)"
   ]
  },
  {
   "cell_type": "markdown",
   "metadata": {},
   "source": [
    "#### Q2. Quel pays a le plus d’athlètes (toutes années confondues) ? (Matthias):"
   ]
  },
  {
   "cell_type": "markdown",
   "metadata": {},
   "source": [
    "```sql\n",
    "SELECT Country, count(DISTINCT Athlete) as one\n",
    "FROM summer \n",
    "GROUP by Country\n",
    "ORDER BY one DESC\n",
    "```"
   ]
  },
  {
   "cell_type": "markdown",
   "metadata": {},
   "source": [
    "![Q2](./Snaps/Q2.jpg)"
   ]
  },
  {
   "cell_type": "markdown",
   "metadata": {},
   "source": [
    "#### Q3. En 2012 combien de médailles le Japon a t-il gagné ? (Théo)"
   ]
  },
  {
   "cell_type": "markdown",
   "metadata": {},
   "source": [
    "```sql\n",
    "SELECT count(*)\n",
    "FROM summer \n",
    "WHERE Year = \"2012\" and Country\t= \"JPN\"\n",
    "```"
   ]
  },
  {
   "cell_type": "markdown",
   "metadata": {},
   "source": [
    "![Q3](./Snaps/Q3.jpg)"
   ]
  },
  {
   "cell_type": "markdown",
   "metadata": {},
   "source": [
    "#### Q4. Dans quels différents sports les Grecs ont-ils gagné des médailles ? - (Corentin L)"
   ]
  },
  {
   "cell_type": "markdown",
   "metadata": {},
   "source": [
    "```sql\n",
    "SELECT DISTINCT Sport\n",
    "FROM summer \n",
    "WHERE Country = \"GRE\"\n",
    "```"
   ]
  },
  {
   "cell_type": "markdown",
   "metadata": {},
   "source": [
    "![Q4](./Snaps/Q4.jpg)"
   ]
  },
  {
   "cell_type": "markdown",
   "metadata": {},
   "source": [
    "#### Q5. Quel pays a remporté le plus de médailles d’or ? (Philippe)"
   ]
  },
  {
   "cell_type": "markdown",
   "metadata": {},
   "source": [
    "```sql\n",
    "SELECT(Country), count (Medal = \"Gold\") as one\n",
    "FROM summer \n",
    "WHERE medal = \"Gold\"\n",
    "Group by Country\n",
    "ORDER by one DESC\n",
    "```"
   ]
  },
  {
   "cell_type": "markdown",
   "metadata": {},
   "source": [
    "![Q5](./Snaps/Q5.jpg)"
   ]
  },
  {
   "cell_type": "markdown",
   "metadata": {},
   "source": [
    "#### Q6 : Combien de villes différentes ont accueilli les JO d’été entre 1896 - et 2012 ? (Yoann)"
   ]
  },
  {
   "cell_type": "markdown",
   "metadata": {},
   "source": [
    "````sql\n",
    "SELECT DISTINCT(City)\n",
    "FROM summer \n",
    "````"
   ]
  },
  {
   "cell_type": "markdown",
   "metadata": {},
   "source": [
    "![Q7](./Snaps/Q7_1.jpg)"
   ]
  },
  {
   "cell_type": "markdown",
   "metadata": {},
   "source": [
    "#### Q7 : Combien de femmes ont obtenu une médaille d’or ? (Lamia)"
   ]
  },
  {
   "cell_type": "markdown",
   "metadata": {},
   "source": [
    "````sql\n",
    "SELECT count(*)\n",
    "FROM summer \n",
    "Where Medal = \"Gold\" and Gender = \"Women\"\n",
    "````"
   ]
  },
  {
   "cell_type": "markdown",
   "metadata": {},
   "source": [
    "![Q7](./Snaps/Q6_1.jpg)"
   ]
  },
  {
   "cell_type": "markdown",
   "metadata": {},
   "source": [
    "#### Q8 : Combien de sports différents sont représentés par année ? (Joris)"
   ]
  },
  {
   "cell_type": "markdown",
   "metadata": {},
   "source": [
    "````sql\n",
    "SELECT Year, count(DISTINCT Sport)\n",
    "FROM summer\n",
    "GROUP BY Year\n",
    "ORDER BY Year DESC\n",
    "````"
   ]
  },
  {
   "cell_type": "markdown",
   "metadata": {},
   "source": [
    "![Q9](./Snaps/Q8.jpg)"
   ]
  },
  {
   "cell_type": "markdown",
   "metadata": {},
   "source": [
    "#### Q9 : Combien de fois Londres a accueilli les J.O ? (Marvin)"
   ]
  },
  {
   "cell_type": "markdown",
   "metadata": {},
   "source": [
    "```` sql\n",
    "SELECT (City),  count (Distinct Year)\n",
    "FROM summer \n",
    "Where City = \"London\"\n",
    "````"
   ]
  },
  {
   "cell_type": "markdown",
   "metadata": {},
   "source": [
    "![Q9](./Snaps/Q10.jpg)"
   ]
  },
  {
   "cell_type": "markdown",
   "metadata": {},
   "source": [
    "#### Q10 : Combien de joueuses comptait la sélection brésilienne de volley-ball médaillée d’or aux J.O de 2012 ? (Corentin P)"
   ]
  },
  {
   "cell_type": "markdown",
   "metadata": {},
   "source": [
    "````sql\n",
    "SELECT count(*)\n",
    "FROM summer \n",
    "Where Year = \"2012\" and Gender = \"Women\" AND Country = \"BRA\" and Medal = \"Gold\" and Event = \"Volleyball\"\n",
    "````"
   ]
  },
  {
   "cell_type": "markdown",
   "metadata": {},
   "source": [
    "![Q9](./Snaps/Q11.jpg)"
   ]
  },
  {
   "cell_type": "markdown",
   "metadata": {},
   "source": [
    "#### Q11 : Combien de femmes françaises ont participé en 2012 , quel sont leurs - médailles ? (Izak)"
   ]
  },
  {
   "cell_type": "markdown",
   "metadata": {},
   "source": [
    "``` sql\n",
    "SELECT(Medal), count(Medal)\n",
    "FROM summer \n",
    "Where Country = \"FRA\" and Gender = \"Women\" and Year = \"2012\"\n",
    "Group by Medal\n",
    "```"
   ]
  },
  {
   "cell_type": "markdown",
   "metadata": {},
   "source": [
    "![Q11](./Snaps/Q12.jpg)"
   ]
  },
  {
   "cell_type": "markdown",
   "metadata": {},
   "source": [
    "#### Q12 : Quel est l’athlète qui a remporté le plus de médailles d’or ? - (Mayel)"
   ]
  },
  {
   "cell_type": "markdown",
   "metadata": {},
   "source": [
    "```` sql\n",
    "SELECT Athlete, count (Medal) as one\n",
    "FROM summer\n",
    "Where Medal = \"Gold\"\n",
    "Group by Athlete\n",
    "Order by one desc\n",
    "Limit 1\n",
    "````"
   ]
  },
  {
   "cell_type": "markdown",
   "metadata": {},
   "source": [
    "![Q12](./Snaps/Q13.jpg)"
   ]
  },
  {
   "cell_type": "markdown",
   "metadata": {},
   "source": [
    "#### Q13 : Est-ce que la France à déjà gagné une médaille d’or au cricket ? (Jordan)"
   ]
  },
  {
   "cell_type": "markdown",
   "metadata": {},
   "source": [
    "```sql\n",
    "SELECT count (Medal)\n",
    "FROM summer\n",
    "Where Country = \"FRA\" and Sport = \"Cricket\" and Medal = \"Gold\"\n",
    "```"
   ]
  },
  {
   "cell_type": "markdown",
   "metadata": {},
   "source": [
    "![Q13](./Snaps/Q14.jpg)"
   ]
  },
  {
   "cell_type": "markdown",
   "metadata": {},
   "source": [
    "#### Q14 : Combien de médaillés ont un nom de famille de plus de 6 lettres en excluant les années paires ? (Jonathan)"
   ]
  },
  {
   "cell_type": "markdown",
   "metadata": {},
   "source": [
    "Pas de J.O en année impair"
   ]
  },
  {
   "cell_type": "markdown",
   "metadata": {},
   "source": [
    "#### Q15 : Le nombre de médailles d’or par pays en 2012 (Maëlle)"
   ]
  },
  {
   "cell_type": "markdown",
   "metadata": {},
   "source": [
    "```sql\n",
    "SELECT Country, count (Medal) as one\n",
    "FROM summer\n",
    "Where Year = \"2012\" and Medal = \"Gold\"\n",
    "Group by Country\n",
    "Order by one desc\n",
    "```"
   ]
  },
  {
   "cell_type": "markdown",
   "metadata": {},
   "source": [
    "![Q15](./Snaps/Q15.jpg)"
   ]
  },
  {
   "cell_type": "markdown",
   "metadata": {},
   "source": [
    "#### Q16 : Combien de femmes ont remporté des médailles ? (Alicia)"
   ]
  },
  {
   "cell_type": "markdown",
   "metadata": {},
   "source": [
    "```sql\n",
    "SELECT count (DISTINCT Athlete)\n",
    "FROM summer\n",
    "WHERE Gender = \"Women\"\n",
    "```"
   ]
  },
  {
   "cell_type": "markdown",
   "metadata": {},
   "source": [
    "![Q16](./Snaps/Q16.jpg)"
   ]
  },
  {
   "cell_type": "markdown",
   "metadata": {},
   "source": [
    "#### Q17 : Entre 1984 et 2012 combien de médailles a gagné la France ? (Abire)"
   ]
  },
  {
   "cell_type": "markdown",
   "metadata": {},
   "source": [
    "```sql\n",
    "SELECT Country, count (Medal)\n",
    "FROM summer\n",
    "Where Country = \"FRA\" and Year BETWEEN 1984 AND 2012\n",
    "```"
   ]
  },
  {
   "cell_type": "markdown",
   "metadata": {},
   "source": [
    "![Q17](./Snaps/Q17.jpg)"
   ]
  },
  {
   "cell_type": "markdown",
   "metadata": {},
   "source": [
    "--- "
   ]
  },
  {
   "cell_type": "markdown",
   "metadata": {},
   "source": [
    "Fin"
   ]
  }
 ],
 "metadata": {
  "kernelspec": {
   "display_name": "Python 3",
   "language": "python",
   "name": "python3"
  },
  "language_info": {
   "codemirror_mode": {
    "name": "ipython",
    "version": 3
   },
   "file_extension": ".py",
   "mimetype": "text/x-python",
   "name": "python",
   "nbconvert_exporter": "python",
   "pygments_lexer": "ipython3",
   "version": "3.8.6"
  }
 },
 "nbformat": 4,
 "nbformat_minor": 4
}
